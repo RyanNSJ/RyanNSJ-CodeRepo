{
 "cells": [
  {
   "cell_type": "markdown",
   "metadata": {},
   "source": [
    "# Bitfinex API Data Pull"
   ]
  },
  {
   "cell_type": "code",
   "execution_count": 1,
   "metadata": {
    "collapsed": false
   },
   "outputs": [],
   "source": [
    "import csv\n",
    "import urllib\n",
    "import os\n",
    "import ast\n",
    "import pandas as pd\n",
    "from datetime import datetime, date\n",
    "\n",
    "\n",
    "def writecsvfile(fname, data):\n",
    "    mycsv = csv.writer(open(fname, 'w'))\n",
    "    for row in data:\n",
    "        mycsv.writerow(row)\n",
    "        \n",
    "def get_data(symbol,freq):\n",
    "    fpath = os.getcwd()\n",
    "    link = 'https://api.bitfinex.com/v2/candles/trade:' + freq + \":t\" + \"%s\"%symbol + \"/hist?limit=1000\"\n",
    "    f = urllib.urlopen(link)\n",
    "    myfile = f.read()\n",
    "    \n",
    "    evaluated = ast.literal_eval(myfile)\n",
    "    \n",
    "    writecsvfile(fpath + 'Bitfinex-' + '{}'.format(symbol) + '.csv', evaluated)\n",
    "    \n",
    "    df = pd.read_csv(fpath + 'Bitfinex-' + '{}'.format(symbol) + '.csv', sep=',')\n",
    "    df.columns = ['date','open','close','high','low','volume']\n",
    "    df['date'] = pd.to_datetime(df['date'], unit='ms')\n",
    "    df = df.iloc[::-1]\n",
    "    df = df.set_index(['date'])\n",
    "    \n",
    "    df.to_csv(fpath + '\\Bitfinex-' + '{}'.format(symbol) + '.csv', sep=',')\n",
    "\n",
    "\n"
   ]
  },
  {
   "cell_type": "code",
   "execution_count": 2,
   "metadata": {
    "collapsed": true
   },
   "outputs": [],
   "source": [
    "get_data('OMGETH','1D')"
   ]
  },
  {
   "cell_type": "code",
   "execution_count": null,
   "metadata": {
    "collapsed": true
   },
   "outputs": [],
   "source": []
  }
 ],
 "metadata": {
  "kernelspec": {
   "display_name": "Python [conda env:Py2]",
   "language": "python",
   "name": "conda-env-Py2-py"
  },
  "language_info": {
   "codemirror_mode": {
    "name": "ipython",
    "version": 2
   },
   "file_extension": ".py",
   "mimetype": "text/x-python",
   "name": "python",
   "nbconvert_exporter": "python",
   "pygments_lexer": "ipython2",
   "version": "2.7.13"
  }
 },
 "nbformat": 4,
 "nbformat_minor": 1
}
